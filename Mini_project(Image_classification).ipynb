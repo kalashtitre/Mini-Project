{
  "nbformat": 4,
  "nbformat_minor": 0,
  "metadata": {
    "colab": {
      "name": "Mini project(Image classification).ipynb",
      "provenance": [],
      "collapsed_sections": [],
      "authorship_tag": "ABX9TyOczRzL2vCB2j4PmlZaTPdr",
      "include_colab_link": true
    },
    "kernelspec": {
      "name": "python3",
      "display_name": "Python 3"
    }
  },
  "cells": [
    {
      "cell_type": "markdown",
      "metadata": {
        "id": "view-in-github",
        "colab_type": "text"
      },
      "source": [
        "<a href=\"https://colab.research.google.com/github/kalashtitre/Mini-Project/blob/main/Mini_project(Image_classification).ipynb\" target=\"_parent\"><img src=\"https://colab.research.google.com/assets/colab-badge.svg\" alt=\"Open In Colab\"/></a>"
      ]
    },
    {
      "cell_type": "code",
      "metadata": {
        "colab": {
          "base_uri": "https://localhost:8080/"
        },
        "id": "XBr1et-TTZun",
        "outputId": "1b2460c3-aa1c-4338-f4b9-4b7d128a8fce"
      },
      "source": [
        "!pip install ipython-autotime\r\n",
        "%load_ext autotime"
      ],
      "execution_count": 6,
      "outputs": [
        {
          "output_type": "stream",
          "text": [
            "Requirement already satisfied: ipython-autotime in /usr/local/lib/python3.6/dist-packages (0.3.1)\n",
            "Requirement already satisfied: ipython in /usr/local/lib/python3.6/dist-packages (from ipython-autotime) (5.5.0)\n",
            "Requirement already satisfied: decorator in /usr/local/lib/python3.6/dist-packages (from ipython->ipython-autotime) (4.4.2)\n",
            "Requirement already satisfied: pygments in /usr/local/lib/python3.6/dist-packages (from ipython->ipython-autotime) (2.6.1)\n",
            "Requirement already satisfied: prompt-toolkit<2.0.0,>=1.0.4 in /usr/local/lib/python3.6/dist-packages (from ipython->ipython-autotime) (1.0.18)\n",
            "Requirement already satisfied: pickleshare in /usr/local/lib/python3.6/dist-packages (from ipython->ipython-autotime) (0.7.5)\n",
            "Requirement already satisfied: traitlets>=4.2 in /usr/local/lib/python3.6/dist-packages (from ipython->ipython-autotime) (4.3.3)\n",
            "Requirement already satisfied: pexpect; sys_platform != \"win32\" in /usr/local/lib/python3.6/dist-packages (from ipython->ipython-autotime) (4.8.0)\n",
            "Requirement already satisfied: setuptools>=18.5 in /usr/local/lib/python3.6/dist-packages (from ipython->ipython-autotime) (53.0.0)\n",
            "Requirement already satisfied: simplegeneric>0.8 in /usr/local/lib/python3.6/dist-packages (from ipython->ipython-autotime) (0.8.1)\n",
            "Requirement already satisfied: six>=1.9.0 in /usr/local/lib/python3.6/dist-packages (from prompt-toolkit<2.0.0,>=1.0.4->ipython->ipython-autotime) (1.15.0)\n",
            "Requirement already satisfied: wcwidth in /usr/local/lib/python3.6/dist-packages (from prompt-toolkit<2.0.0,>=1.0.4->ipython->ipython-autotime) (0.2.5)\n",
            "Requirement already satisfied: ipython-genutils in /usr/local/lib/python3.6/dist-packages (from traitlets>=4.2->ipython->ipython-autotime) (0.2.0)\n",
            "Requirement already satisfied: ptyprocess>=0.5 in /usr/local/lib/python3.6/dist-packages (from pexpect; sys_platform != \"win32\"->ipython->ipython-autotime) (0.7.0)\n",
            "time: 202 µs (started: 2021-02-11 10:30:07 +00:00)\n"
          ],
          "name": "stdout"
        }
      ]
    },
    {
      "cell_type": "code",
      "metadata": {
        "id": "K3yISGYQ0es4"
      },
      "source": [
        "# Data : Images\r\n",
        "# 1. Download manually the images from Google\r\n",
        "# 2. Download dataset from Kaggle.com\r\n",
        "# 3. Build a Image Web crawler\r\n",
        "# 4. Use Python libraries to scrape the images (Using bing image downloader)"
      ],
      "execution_count": null,
      "outputs": []
    },
    {
      "cell_type": "code",
      "metadata": {
        "colab": {
          "base_uri": "https://localhost:8080/"
        },
        "id": "c9jSE67vQtZi",
        "outputId": "5d9d0bda-eec8-441c-bd9e-04a9b7b9c98a"
      },
      "source": [
        "!pip install bing-image-downloader"
      ],
      "execution_count": 1,
      "outputs": [
        {
          "output_type": "stream",
          "text": [
            "Collecting bing-image-downloader\n",
            "  Downloading https://files.pythonhosted.org/packages/0d/bf/537a61030b84ae4cd5022d5c7b014fd9bc3ce7c02358919153a6658a61d3/bing_image_downloader-1.0.4-py3-none-any.whl\n",
            "Installing collected packages: bing-image-downloader\n",
            "Successfully installed bing-image-downloader-1.0.4\n"
          ],
          "name": "stdout"
        }
      ]
    },
    {
      "cell_type": "code",
      "metadata": {
        "id": "wxGpSnD1Q1t0"
      },
      "source": [
        "!mkdir images"
      ],
      "execution_count": 2,
      "outputs": []
    },
    {
      "cell_type": "code",
      "metadata": {
        "colab": {
          "base_uri": "https://localhost:8080/"
        },
        "id": "QnjHEpQQRI8i",
        "outputId": "1b7455ba-a8c4-48f5-d4c5-661fc50206fa"
      },
      "source": [
        "from bing_image_downloader import downloader\r\n",
        "downloader.download(\"cute cat\",limit=30,output_dir='images',adult_filter_off=True)"
      ],
      "execution_count": 4,
      "outputs": [
        {
          "output_type": "stream",
          "text": [
            "\n",
            "\n",
            "[!!]Indexing page: 1\n",
            "\n",
            "[%] Indexed 30 Images on Page 1.\n",
            "\n",
            "===============================================\n",
            "\n",
            "[%] Downloading Image #1 from http://www.reportingday.com/wp-content/uploads/2018/06/Cat-Sleeping-Pics.jpg\n",
            "[%] File Downloaded !\n",
            "\n",
            "[%] Downloading Image #2 from https://catzone-tcwebsites.netdna-ssl.com/wp-content/uploads/2014/09/453768-cats-cute.jpg\n",
            "[%] File Downloaded !\n",
            "\n",
            "[%] Downloading Image #3 from http://4.bp.blogspot.com/-d68l8RLoLc4/UWAJF-ofbJI/AAAAAAAAST4/SUJbO2Dz-RI/s1600/cat1.jpg\n",
            "[%] File Downloaded !\n",
            "\n",
            "[%] Downloading Image #4 from http://4.bp.blogspot.com/-MzZCzWI_6Xc/UIUQp1qPfzI/AAAAAAAAHpA/OTwHCJSWFAY/s1600/cats_animals_kittens_cat_kitten_cute_desktop_1680x1050_hd-wallpaper-753974.jpeg\n",
            "[%] File Downloaded !\n",
            "\n",
            "[%] Downloading Image #5 from http://3.bp.blogspot.com/-FAZFj1rfhcM/UWAJFv3cLgI/AAAAAAAAST0/z2tOipqevdc/s1600/Very+cute+cat+wallpapers+(02).jpg\n",
            "[%] File Downloaded !\n",
            "\n",
            "[%] Downloading Image #6 from https://media.moddb.com/images/downloads/1/66/65404/Cute_cat_1.jpg\n",
            "[%] File Downloaded !\n",
            "\n",
            "[%] Downloading Image #7 from http://4.bp.blogspot.com/-Il6dn2PyLW4/T8tVa1HQmkI/AAAAAAAABls/5u1UIJh_CUw/s1600/so-freakin-cute--cats-248645_1024_768.jpg\n",
            "[%] File Downloaded !\n",
            "\n",
            "[%] Downloading Image #8 from http://2.bp.blogspot.com/-k_IJQ-pxheI/T9ufytUpqaI/AAAAAAAAAEI/4SfFDfvy_RY/s1600/Cute-Cats-008.jpg\n",
            "[%] File Downloaded !\n",
            "\n",
            "[%] Downloading Image #9 from https://squeaksandnibbles.com/wp-content/uploads/2019/06/Cute-cat-names-SN-long.jpg\n",
            "[Error]Invalid image, not saving https://squeaksandnibbles.com/wp-content/uploads/2019/06/Cute-cat-names-SN-long.jpg\n",
            "\n",
            "[!] Issue getting: https://squeaksandnibbles.com/wp-content/uploads/2019/06/Cute-cat-names-SN-long.jpg\n",
            "[!] Error:: No active exception to reraise\n",
            "[%] Downloading Image #9 from https://image.winudf.com/v2/image/Y29tLmFuZHJvbW8uZGV2NjYwNjE0LmFwcDczMTE1M19zY3JlZW5fN18xNTE3MDM4NDQ2XzAzNQ/screen-7.jpg?fakeurl=1&amp;type=.jpg\n",
            "[%] File Downloaded !\n",
            "\n",
            "[%] Downloading Image #10 from https://1.bp.blogspot.com/-Flgz-X52Sa8/T-xaP9vmUZI/AAAAAAAABBg/B8pL7lpfd8w/s1600/newsitemoet.jpeg\n",
            "[%] File Downloaded !\n",
            "\n",
            "[%] Downloading Image #11 from https://welovecatsandkittens.com/wp-content/uploads/2018/03/cute-2.jpg\n",
            "[%] File Downloaded !\n",
            "\n",
            "[%] Downloading Image #12 from https://2.bp.blogspot.com/-gEp8gdwhBEc/T-xalHvAEhI/AAAAAAAABCg/9R8mhy2b-D4/s1600/cals+kitens+2010+017.jpeg\n",
            "[%] File Downloaded !\n",
            "\n",
            "[%] Downloading Image #13 from https://i.ytimg.com/vi/7OD55d6iRCQ/maxresdefault.jpg\n",
            "[%] File Downloaded !\n",
            "\n",
            "[%] Downloading Image #14 from https://www.pixelstalk.net/wp-content/uploads/2016/03/Cute-cats-wallpaper-hd.jpg\n",
            "[%] File Downloaded !\n",
            "\n",
            "[%] Downloading Image #15 from http://wallpapers9.org/wp-content/uploads/2017/05/Cute-Cat-2.jpg\n",
            "[%] File Downloaded !\n",
            "\n",
            "[%] Downloading Image #16 from https://worldcatcomedy.com/wp-content/uploads/2018/10/maxresdefault-47.jpg\n",
            "[%] File Downloaded !\n",
            "\n",
            "[%] Downloading Image #17 from https://4.bp.blogspot.com/-MqBNWBKCmc4/T-xaab5VZrI/AAAAAAAABCI/P4uN74E5UI4/s1600/Armani+on+show.jpeg\n",
            "[%] File Downloaded !\n",
            "\n",
            "[%] Downloading Image #18 from https://thewallpaper.co/wp-content/uploads/2016/01/kittens-lovely-kittens-pussycat-images-cute-cat-wallpapers-cute-cats-1440x900.jpg\n",
            "[!] Issue getting: https://thewallpaper.co/wp-content/uploads/2016/01/kittens-lovely-kittens-pussycat-images-cute-cat-wallpapers-cute-cats-1440x900.jpg\n",
            "[!] Error:: HTTP Error 404: Not Found\n",
            "[%] Downloading Image #18 from https://i.redd.it/02g1pfot5ds41.jpg\n",
            "[%] File Downloaded !\n",
            "\n",
            "[%] Downloading Image #19 from https://i.ytimg.com/vi/5r32HezYDS4/maxresdefault.jpg\n",
            "[%] File Downloaded !\n",
            "\n",
            "[%] Downloading Image #20 from https://i.ytimg.com/vi/W-PBFMECvTE/maxresdefault.jpg\n",
            "[%] File Downloaded !\n",
            "\n",
            "[%] Downloading Image #21 from https://wallpapers.pictures/media/two-playful-kittens-wallpaper-background-1080x1920.jpg\n",
            "[%] File Downloaded !\n",
            "\n",
            "[%] Downloading Image #22 from http://1.bp.blogspot.com/-9faVVE8IyPM/UF8ym3gOMbI/AAAAAAAADZY/MHfEp3X16OY/s1600/4_Cute_Cats_Wallpaper_1440x900_wallpaperhere.jpg\n",
            "[%] File Downloaded !\n",
            "\n",
            "[%] Downloading Image #23 from https://www.pixelstalk.net/wp-content/uploads/2016/10/Cute-white-cat-iPhone-7-wallpaper-1080x1920.jpg\n",
            "[%] File Downloaded !\n",
            "\n",
            "[%] Downloading Image #24 from http://1.bp.blogspot.com/-F9B7MrG9Vl8/T9uevPioqPI/AAAAAAAAACg/FQxPGkupdMk/s1600/cute+cat+pictures+(8).jpg\n",
            "[%] File Downloaded !\n",
            "\n",
            "[%] Downloading Image #25 from http://1.bp.blogspot.com/-hSuflJtwy-o/Uah1taLj83I/AAAAAAAAH4g/vze5WfsDYTU/s1600/cute_cat_picture-12.jpg\n",
            "[%] File Downloaded !\n",
            "\n",
            "[%] Downloading Image #26 from https://i.ytimg.com/vi/NCq_YbvJPNw/maxresdefault.jpg\n",
            "[%] File Downloaded !\n",
            "\n",
            "[%] Downloading Image #27 from http://wondrouspics.com/wp-content/uploads/2011/12/Cute-Kitten2.jpg\n",
            "[%] File Downloaded !\n",
            "\n",
            "[%] Downloading Image #28 from https://2.bp.blogspot.com/--mqQKXiTD0E/UIURXCYUxUI/AAAAAAAAHuQ/8jMmIdkdLX8/s1600/cats_desktop_1920x1200_hd-wallpaper-817100.jpeg\n",
            "[%] File Downloaded !\n",
            "\n",
            "\n",
            "\n",
            "[!!]Indexing page: 2\n",
            "\n",
            "[%] Indexed 35 Images on Page 2.\n",
            "\n",
            "===============================================\n",
            "\n",
            "[%] Downloading Image #29 from http://www.reportingday.com/wp-content/uploads/2018/06/Cat-Sleeping-Pics.jpg\n",
            "[%] File Downloaded !\n",
            "\n",
            "[%] Downloading Image #30 from https://catzone-tcwebsites.netdna-ssl.com/wp-content/uploads/2014/09/453768-cats-cute.jpg\n",
            "[%] File Downloaded !\n",
            "\n",
            "\n",
            "\n",
            "[%] Done. Downloaded 30 images.\n",
            "\n",
            "===============================================\n",
            "\n"
          ],
          "name": "stdout"
        }
      ]
    },
    {
      "cell_type": "code",
      "metadata": {
        "colab": {
          "base_uri": "https://localhost:8080/"
        },
        "id": "e5lg4MPAR_W3",
        "outputId": "1fbeb05a-ae4e-4cc8-e1d8-a65fdd9a1093"
      },
      "source": [
        "downloader.download(\"beautiful flowers\",limit=30,output_dir='images',adult_filter_off=True)"
      ],
      "execution_count": 5,
      "outputs": [
        {
          "output_type": "stream",
          "text": [
            "\n",
            "\n",
            "[!!]Indexing page: 1\n",
            "\n",
            "[%] Indexed 30 Images on Page 1.\n",
            "\n",
            "===============================================\n",
            "\n",
            "[%] Downloading Image #1 from http://www.hdwallpaper.nu/wp-content/uploads/2015/06/1843513.jpg\n",
            "[%] File Downloaded !\n",
            "\n",
            "[%] Downloading Image #2 from https://www.thespruce.com/thmb/SiO7HQpE-6kFDbwpTz6CKNGO1Rw=/2119x1415/filters:fill(auto,1)/GettyImages-971582964-ee0f28aa66b04fb1a54171fa4bdee7a6.jpg\n",
            "[%] File Downloaded !\n",
            "\n",
            "[%] Downloading Image #3 from http://4.bp.blogspot.com/-_mvArckgaVg/TeRoYxI8EPI/AAAAAAAAC28/5OXP-yL6wqQ/s1600/Beautiful+Flowers+1+%25284%2529.jpg\n",
            "[%] File Downloaded !\n",
            "\n",
            "[%] Downloading Image #4 from https://media.cntraveler.com/photos/554a497929d479ab28bfb03b/master/pass/spring_flowers_2015_longwood_cr_Longwood Gardens L Albee.jpg\n",
            "[!] Issue getting: https://media.cntraveler.com/photos/554a497929d479ab28bfb03b/master/pass/spring_flowers_2015_longwood_cr_Longwood Gardens L Albee.jpg\n",
            "[!] Error:: URL can't contain control characters. '/photos/554a497929d479ab28bfb03b/master/pass/spring_flowers_2015_longwood_cr_Longwood Gardens L Albee.jpg' (found at least ' ')\n",
            "[%] Downloading Image #4 from https://images.pexels.com/photos/863963/pexels-photo-863963.jpeg?cs=srgb&amp;dl=nature-flowers-garden-863963.jpg&amp;fm=jpg\n",
            "[%] File Downloaded !\n",
            "\n",
            "[%] Downloading Image #5 from https://i2.wp.com/youmeandtrends.com/wp-content/uploads/2015/11/beautiful-flowers-pictures-free-download.jpg\n",
            "[%] File Downloaded !\n",
            "\n",
            "[%] Downloading Image #6 from https://thumbs.dreamstime.com/z/beautiful-flowers-background-wedding-scene-beautiful-bouquet-mixed-flowers-vase-wooden-table-beautiful-flowers-141580213.jpg\n",
            "[%] File Downloaded !\n",
            "\n",
            "[%] Downloading Image #7 from https://i.ytimg.com/vi/HS1UrTjwm5c/maxresdefault.jpg\n",
            "[%] File Downloaded !\n",
            "\n",
            "[%] Downloading Image #8 from http://webneel.com/wallpaper/sites/default/files/images/01-2018/4-beautiful-flower-wallpaper-hd-saxyman.jpg\n",
            "[%] File Downloaded !\n",
            "\n",
            "[%] Downloading Image #9 from https://www.flowermeaning.com/flower-pics/10-most-beautiful/Gazania-02.jpg\n",
            "[%] File Downloaded !\n",
            "\n",
            "[%] Downloading Image #10 from https://kottke.org/plus/misc/images/beautiful-flowers-02.jpg\n",
            "[%] File Downloaded !\n",
            "\n",
            "[%] Downloading Image #11 from https://sublimefleuriste.com/wp-content/uploads/2018/10/SUBFC-033.jpg\n",
            "[%] File Downloaded !\n",
            "\n",
            "[%] Downloading Image #12 from https://kottke.org/plus/misc/images/beautiful-flowers-01.jpg\n",
            "[%] File Downloaded !\n",
            "\n",
            "[%] Downloading Image #13 from http://3.bp.blogspot.com/-2_uQf67bInA/UAFQxIwX8qI/AAAAAAAAAC4/G7mqOd8glAA/s1600/Nature_Flowers_Beautiful_flowers.jpg\n",
            "[%] File Downloaded !\n",
            "\n",
            "[%] Downloading Image #14 from https://1.bp.blogspot.com/--9WuqLm8u4g/U3Hj12azPtI/AAAAAAAACpE/6QahIQ4e11E/s1600/Most+Beautiful+Flowers.jpg\n",
            "[%] File Downloaded !\n",
            "\n",
            "[%] Downloading Image #15 from http://thewowstyle.com/wp-content/uploads/2015/08/beautiful-colorful-flowers.jpg\n",
            "[Error]Invalid image, not saving http://thewowstyle.com/wp-content/uploads/2015/08/beautiful-colorful-flowers.jpg\n",
            "\n",
            "[!] Issue getting: http://thewowstyle.com/wp-content/uploads/2015/08/beautiful-colorful-flowers.jpg\n",
            "[!] Error:: No active exception to reraise\n",
            "[%] Downloading Image #15 from http://www.wallpapers13.com/wp-content/uploads/2015/11/Super-beautiful-flowers-wallpapers-2560X1600-1920x1440.jpg\n",
            "[%] File Downloaded !\n",
            "\n",
            "[%] Downloading Image #16 from http://envirocivil.com/wp-content/uploads/2012/09/flowers_closeup_12.jpg\n",
            "[%] File Downloaded !\n",
            "\n",
            "[%] Downloading Image #17 from http://2.bp.blogspot.com/-YORu5G-j2xo/UDnyI_Sk4eI/AAAAAAAACFE/TZnRJNQDKt0/s1600/Beautiful-Flowers-307-R9Q87DGIHF-1600x1200.jpg\n",
            "[%] File Downloaded !\n",
            "\n",
            "[%] Downloading Image #18 from http://www.publicdomainpictures.net/pictures/20000/velka/beautiful-flowers-871297440286tr0.jpg\n",
            "[%] File Downloaded !\n",
            "\n",
            "[%] Downloading Image #19 from https://i.ytimg.com/vi/w_5iX50c3uc/maxresdefault.jpg\n",
            "[%] File Downloaded !\n",
            "\n",
            "[%] Downloading Image #20 from http://2.bp.blogspot.com/-vPGbWuXmzC4/T28e9PTycfI/AAAAAAAAEbo/ZiB4XVEZ-vQ/s1600/eswar-beautiful-hibiscus-flower-dsc02642.jpg\n",
            "[%] File Downloaded !\n",
            "\n",
            "[%] Downloading Image #21 from http://www.hdwallpaper.nu/wp-content/uploads/2015/06/1919099.jpg\n",
            "[%] File Downloaded !\n",
            "\n",
            "[%] Downloading Image #22 from http://1.bp.blogspot.com/-r6FSyDTMKlE/TeRoh5sXPXI/AAAAAAAAC3I/tEI3AnhFYPU/s1600/Beautiful+Flowers+1+%25287%2529.jpg\n",
            "[%] File Downloaded !\n",
            "\n",
            "[%] Downloading Image #23 from https://i.ytimg.com/vi/jhVBGbLIMbM/maxresdefault.jpg\n",
            "[%] File Downloaded !\n",
            "\n",
            "[%] Downloading Image #24 from https://2.bp.blogspot.com/-DvUfRJ3R1es/T5us_u657NI/AAAAAAAADCo/3FkFTmyFn-Q/s1600/HDHUT+%252813%2529.jpeg\n",
            "[%] File Downloaded !\n",
            "\n",
            "[%] Downloading Image #25 from https://i.ytimg.com/vi/1w6UTLtmBDU/maxresdefault.jpg\n",
            "[%] File Downloaded !\n",
            "\n",
            "[%] Downloading Image #26 from https://www.ohmy-creative.com/wp-content/uploads/2016/07/How-to-grow-a-beautiful-Flower-Garden-OHMY-CREATIVE.COM_.jpg\n",
            "[%] File Downloaded !\n",
            "\n",
            "[%] Downloading Image #27 from http://2.bp.blogspot.com/-IToHVd8vrWA/UJncMpbr8XI/AAAAAAAAXY4/OB0gP49XmCo/s1600/Desk+top+HD+Beautiful+flowers+wallpapers.+(1).jpg\n",
            "[%] File Downloaded !\n",
            "\n",
            "[%] Downloading Image #28 from https://i.ytimg.com/vi/6PVe8cTgSLo/maxresdefault.jpg\n",
            "[%] File Downloaded !\n",
            "\n",
            "\n",
            "\n",
            "[!!]Indexing page: 2\n",
            "\n",
            "[%] Indexed 35 Images on Page 2.\n",
            "\n",
            "===============================================\n",
            "\n",
            "[%] Downloading Image #29 from http://www.hdwallpaper.nu/wp-content/uploads/2015/06/1843513.jpg\n",
            "[%] File Downloaded !\n",
            "\n",
            "[%] Downloading Image #30 from https://www.thespruce.com/thmb/SiO7HQpE-6kFDbwpTz6CKNGO1Rw=/2119x1415/filters:fill(auto,1)/GettyImages-971582964-ee0f28aa66b04fb1a54171fa4bdee7a6.jpg\n",
            "[%] File Downloaded !\n",
            "\n",
            "\n",
            "\n",
            "[%] Done. Downloaded 30 images.\n",
            "\n",
            "===============================================\n",
            "\n"
          ],
          "name": "stdout"
        }
      ]
    },
    {
      "cell_type": "code",
      "metadata": {
        "colab": {
          "base_uri": "https://localhost:8080/"
        },
        "id": "h8qiSuAySwlC",
        "outputId": "08c3484e-9c9c-4186-9acc-d64089806b47"
      },
      "source": [
        "downloader.download(\"chocolate bars\",limit=30,output_dir='images',adult_filter_off=True)"
      ],
      "execution_count": 6,
      "outputs": [
        {
          "output_type": "stream",
          "text": [
            "\n",
            "\n",
            "[!!]Indexing page: 1\n",
            "\n",
            "[%] Indexed 30 Images on Page 1.\n",
            "\n",
            "===============================================\n",
            "\n",
            "[%] Downloading Image #1 from https://metrouk2.files.wordpress.com/2015/07/comp_choco003.jpg\n",
            "[!] Issue getting: https://metrouk2.files.wordpress.com/2015/07/comp_choco003.jpg\n",
            "[!] Error:: HTTP Error 404: Not Found\n",
            "[%] Downloading Image #1 from https://upload.wikimedia.org/wikipedia/commons/7/70/Chocolate_(blue_background).jpg\n",
            "[%] File Downloaded !\n",
            "\n",
            "[%] Downloading Image #2 from https://www.mynewroots.org/site/wp-content/uploads/2016/03/chocolatebars1.jpg\n",
            "[%] File Downloaded !\n",
            "\n",
            "[%] Downloading Image #3 from http://okanagandispensary.ca/wp-content/uploads/2016/08/chocolate-bars_.jpg\n",
            "[%] File Downloaded !\n",
            "\n",
            "[%] Downloading Image #4 from https://www.friars.co.uk/images/lindt-gold-milk-chocolate-bar-p504-7263_image.jpg\n",
            "[%] File Downloaded !\n",
            "\n",
            "[%] Downloading Image #5 from https://i1.wp.com/www.nearof.com/wp-content/uploads/2019/08/2019-0829-jersey-milk-chocolate-02-1600w.jpg?fit=1600%2C958\n",
            "[%] File Downloaded !\n",
            "\n",
            "[%] Downloading Image #6 from http://www.chocablog.com/wp-content/uploads/2009/07/ms-caramel-chocolate-3.jpg\n",
            "[%] File Downloaded !\n",
            "\n",
            "[%] Downloading Image #7 from https://www.happinessishomemade.net/wp-content/uploads/2016/07/Caramel-Chocolate-Cracker-Candy-Bars.jpg\n",
            "[%] File Downloaded !\n",
            "\n",
            "[%] Downloading Image #8 from https://www.craftyarts.co.uk/images/chocolate-bar-maker-p9311-29730_image.jpg\n",
            "[%] File Downloaded !\n",
            "\n",
            "[%] Downloading Image #9 from https://bakealish.com/wp-content/uploads/2018/05/Dark-Chocolate-Bars_mini.jpg\n",
            "[%] File Downloaded !\n",
            "\n",
            "[%] Downloading Image #10 from https://thefitcookie.com/wp-content/uploads/2012/05/Chocolate-Bars-10.jpg\n",
            "[%] File Downloaded !\n",
            "\n",
            "[%] Downloading Image #11 from https://i2-prod.mirror.co.uk/incoming/article2912355.ece/ALTERNATES/s615/Chocolate-Bar.jpg\n",
            "[%] File Downloaded !\n",
            "\n",
            "[%] Downloading Image #12 from http://i.huffpost.com/gen/1507301/thumbs/o-DARK-CHOCOLATE-BAR-facebook.jpg\n",
            "[%] File Downloaded !\n",
            "\n",
            "[%] Downloading Image #13 from http://thefitcookiedotcom.files.wordpress.com/2012/05/chocolate-bars-9.jpg\n",
            "[%] File Downloaded !\n",
            "\n",
            "[%] Downloading Image #14 from https://www.eatthis.com/wp-content/uploads/2017/10/dark-chocolate-bar-squares.jpg\n",
            "[%] File Downloaded !\n",
            "\n",
            "[%] Downloading Image #15 from http://www.clubcrafted.com/wp-content/uploads/2017/06/pebbles-spicy-cinnamon-crunch-chocolate-bars-5.jpg\n",
            "[%] File Downloaded !\n",
            "\n",
            "[%] Downloading Image #16 from https://upload.wikimedia.org/wikipedia/commons/thumb/a/ae/Time-Out-Split.jpg/1200px-Time-Out-Split.jpg\n",
            "[Error]Invalid image, not saving https://upload.wikimedia.org/wikipedia/commons/thumb/a/ae/Time-Out-Split.jpg/1200px-Time-Out-Split.jpg\n",
            "\n",
            "[!] Issue getting: https://upload.wikimedia.org/wikipedia/commons/thumb/a/ae/Time-Out-Split.jpg/1200px-Time-Out-Split.jpg\n",
            "[!] Error:: No active exception to reraise\n",
            "[%] Downloading Image #16 from https://demexumfrenchchocolate.com/wp-content/uploads/2019/09/1223ttyt.png\n",
            "[%] File Downloaded !\n",
            "\n",
            "[%] Downloading Image #17 from http://cdn-img.health.com/sites/default/files/styles/medium_16_9/public/image/chocolate-bar.jpg?itok=Uvd0zuZm\n",
            "[%] File Downloaded !\n",
            "\n",
            "[%] Downloading Image #18 from http://okanagandispensary.ca/wp-content/uploads/2016/08/chocolate-bars_-2.jpg\n",
            "[%] File Downloaded !\n",
            "\n",
            "[%] Downloading Image #19 from https://media.istockphoto.com/photos/square-format-pile-of-chocolate-bars-picture-id459018431\n",
            "[%] File Downloaded !\n",
            "\n",
            "[%] Downloading Image #20 from http://www.epicureansanswer.com/wp-content/uploads/2009/08/all.jpg\n",
            "[%] File Downloaded !\n",
            "\n",
            "[%] Downloading Image #21 from https://www.happinessishomemade.net/wp-content/uploads/2016/07/Chocolate-Caramel-Cracker-Candy-Bars.jpg\n",
            "[%] File Downloaded !\n",
            "\n",
            "[%] Downloading Image #22 from http://www.fitmittenkitchen.com/wp-content/uploads/2016/01/Mint-Chocolate-Protein-Bars-9.jpg\n",
            "[%] File Downloaded !\n",
            "\n",
            "[%] Downloading Image #23 from https://upload.wikimedia.org/wikipedia/commons/thumb/9/96/Boost_halves.JPG/1200px-Boost_halves.JPG\n",
            "[%] File Downloaded !\n",
            "\n",
            "[%] Downloading Image #24 from https://www.modernhoney.com/wp-content/uploads/2016/10/Candy-Bar-Stash-Chocolate-Cake.jpg\n",
            "[%] File Downloaded !\n",
            "\n",
            "[%] Downloading Image #25 from https://images.101cookbooks.com/recipes/homemade-chocolate-bars/Wonder-berry-chocolate-bar.jpg?w=620&amp;auto=format\n",
            "[%] File Downloaded !\n",
            "\n",
            "[%] Downloading Image #26 from https://img.wonderhowto.com/img/77/53/63559168779427/0/easy-diy-gourmet-chocolate-bars.w1456.jpg\n",
            "[Error]Invalid image, not saving https://img.wonderhowto.com/img/77/53/63559168779427/0/easy-diy-gourmet-chocolate-bars.w1456.jpg\n",
            "\n",
            "[!] Issue getting: https://img.wonderhowto.com/img/77/53/63559168779427/0/easy-diy-gourmet-chocolate-bars.w1456.jpg\n",
            "[!] Error:: No active exception to reraise\n",
            "[%] Downloading Image #26 from https://keyassets-p2.timeincuk.net/wp/prod/wp-content/uploads/sites/32/2015/10/chocolatebars.jpg\n",
            "[%] File Downloaded !\n",
            "\n",
            "[%] Downloading Image #27 from http://www.chocablog.com/wp-content/uploads/2008/04/m-and-s-organic-rose-chocolate-2.jpg\n",
            "[%] File Downloaded !\n",
            "\n",
            "\n",
            "\n",
            "[!!]Indexing page: 2\n",
            "\n",
            "[%] Indexed 35 Images on Page 2.\n",
            "\n",
            "===============================================\n",
            "\n",
            "[%] Downloading Image #28 from https://metrouk2.files.wordpress.com/2015/07/comp_choco003.jpg\n",
            "[!] Issue getting: https://metrouk2.files.wordpress.com/2015/07/comp_choco003.jpg\n",
            "[!] Error:: HTTP Error 404: Not Found\n",
            "[%] Downloading Image #28 from https://upload.wikimedia.org/wikipedia/commons/7/70/Chocolate_(blue_background).jpg\n",
            "[%] File Downloaded !\n",
            "\n",
            "[%] Downloading Image #29 from https://www.mynewroots.org/site/wp-content/uploads/2016/03/chocolatebars1.jpg\n",
            "[%] File Downloaded !\n",
            "\n",
            "[%] Downloading Image #30 from http://okanagandispensary.ca/wp-content/uploads/2016/08/chocolate-bars_.jpg\n",
            "[%] File Downloaded !\n",
            "\n",
            "\n",
            "\n",
            "[%] Done. Downloaded 30 images.\n",
            "\n",
            "===============================================\n",
            "\n"
          ],
          "name": "stdout"
        }
      ]
    },
    {
      "cell_type": "code",
      "metadata": {
        "colab": {
          "base_uri": "https://localhost:8080/"
        },
        "id": "cl--oCKkVjK6",
        "outputId": "d658a86b-b5fe-47b6-d055-6fda39d2f9e2"
      },
      "source": [
        "import numpy as np\r\n",
        "\r\n",
        "a = np.array([[1,2,3,4,5],\r\n",
        "             [4,5,6,7,8]])\r\n",
        "a.ndim"
      ],
      "execution_count": 10,
      "outputs": [
        {
          "output_type": "execute_result",
          "data": {
            "text/plain": [
              "2"
            ]
          },
          "metadata": {
            "tags": []
          },
          "execution_count": 10
        },
        {
          "output_type": "stream",
          "text": [
            "time: 5.15 ms (started: 2021-02-11 09:06:36 +00:00)\n"
          ],
          "name": "stdout"
        }
      ]
    },
    {
      "cell_type": "code",
      "metadata": {
        "colab": {
          "base_uri": "https://localhost:8080/"
        },
        "id": "YbYH6fnPV-a4",
        "outputId": "e8ecf7c8-4dfd-4b46-8c8e-404b26f04e41"
      },
      "source": [
        "# How to convert Matrix to Vector - flatten()\r\n",
        "a.flatten()"
      ],
      "execution_count": 11,
      "outputs": [
        {
          "output_type": "execute_result",
          "data": {
            "text/plain": [
              "array([1, 2, 3, 4, 5, 4, 5, 6, 7, 8])"
            ]
          },
          "metadata": {
            "tags": []
          },
          "execution_count": 11
        },
        {
          "output_type": "stream",
          "text": [
            "time: 3.12 ms (started: 2021-02-11 09:07:46 +00:00)\n"
          ],
          "name": "stdout"
        }
      ]
    },
    {
      "cell_type": "code",
      "metadata": {
        "colab": {
          "base_uri": "https://localhost:8080/"
        },
        "id": "sJn7Sy80TI-8",
        "outputId": "6b342a8d-3e3a-4c11-cb9e-574056bd03e5"
      },
      "source": [
        "# Preprocessing\r\n",
        "# 1. Resize\r\n",
        "# 2. Flattening\r\n",
        "\r\n",
        "import os    # for using many folders\r\n",
        "import matplotlib.pyplot as plt   # for displaying image\r\n",
        "import numpy as np     # for doing numerical computing\r\n",
        "from skimage.io import imread   # for reading an image or use open cv as an alternative\r\n",
        "from skimage.transform import resize  # for resizing image in one specific size\r\n",
        "#skimage = scikit-image library does the image pocessing task\r\n",
        "\r\n",
        "target = []\r\n",
        "images = []\r\n",
        "flat_data = []\r\n",
        "\r\n",
        "DATADIR = '/content/images'\r\n",
        "CATEGORIES = ['beautiful flowers','chocolate bars','cute cat']\r\n",
        "\r\n",
        "for category in CATEGORIES:\r\n",
        "  class_num = CATEGORIES.index(category) # Label Encoding the values\r\n",
        "  path = os.path.join(DATADIR,category)  # Create path to use all the images\r\n",
        "  for img in os.listdir(path):\r\n",
        "    img_array = imread(os.path.join(path,img))\r\n",
        "    #print(img_array.shape)\r\n",
        "    #plt.imshow(img_array)\r\n",
        "    img_resized = resize(img_array,(150,150,3)) # Normalizes the value from 0 to 1\r\n",
        "    flat_data.append(img_resized.flatten())\r\n",
        "    images.append(img_resized)\r\n",
        "    target.append(class_num)\r\n",
        "\r\n",
        "flat_data = np.array(flat_data)\r\n",
        "target = np.array(target)\r\n",
        "images = np.array(images)"
      ],
      "execution_count": 23,
      "outputs": [
        {
          "output_type": "stream",
          "text": [
            "time: 58.3 s (started: 2021-02-11 09:23:14 +00:00)\n"
          ],
          "name": "stdout"
        }
      ]
    },
    {
      "cell_type": "code",
      "metadata": {
        "colab": {
          "base_uri": "https://localhost:8080/"
        },
        "id": "xe3uFronWwGY",
        "outputId": "ccf6e9db-ee63-47df-f386-193f1a3b3c8c"
      },
      "source": [
        "len(flat_data[0])"
      ],
      "execution_count": 27,
      "outputs": [
        {
          "output_type": "execute_result",
          "data": {
            "text/plain": [
              "67500"
            ]
          },
          "metadata": {
            "tags": []
          },
          "execution_count": 27
        },
        {
          "output_type": "stream",
          "text": [
            "time: 2.93 ms (started: 2021-02-11 09:24:38 +00:00)\n"
          ],
          "name": "stdout"
        }
      ]
    },
    {
      "cell_type": "code",
      "metadata": {
        "colab": {
          "base_uri": "https://localhost:8080/"
        },
        "id": "26A-NwKYZiAi",
        "outputId": "32bed752-c254-4dd0-b6d8-bfce1f38cb0c"
      },
      "source": [
        "150*150*3"
      ],
      "execution_count": 28,
      "outputs": [
        {
          "output_type": "execute_result",
          "data": {
            "text/plain": [
              "67500"
            ]
          },
          "metadata": {
            "tags": []
          },
          "execution_count": 28
        },
        {
          "output_type": "stream",
          "text": [
            "time: 8.54 ms (started: 2021-02-11 09:24:43 +00:00)\n"
          ],
          "name": "stdout"
        }
      ]
    },
    {
      "cell_type": "code",
      "metadata": {
        "colab": {
          "base_uri": "https://localhost:8080/"
        },
        "id": "_A6TTMtyZ6df",
        "outputId": "7cf07b26-9efc-44e9-c840-50a97de8f1f6"
      },
      "source": [
        "target"
      ],
      "execution_count": 29,
      "outputs": [
        {
          "output_type": "execute_result",
          "data": {
            "text/plain": [
              "array([0, 0, 0, 0, 0, 0, 0, 0, 0, 0, 0, 0, 0, 0, 0, 0, 0, 0, 0, 0, 0, 0,\n",
              "       0, 0, 0, 0, 0, 0, 0, 0, 1, 1, 1, 1, 1, 1, 1, 1, 1, 1, 1, 1, 1, 1,\n",
              "       1, 1, 1, 1, 1, 1, 1, 1, 1, 1, 1, 1, 1, 1, 1, 1, 2, 2, 2, 2, 2, 2,\n",
              "       2, 2, 2, 2, 2, 2, 2, 2, 2, 2, 2, 2, 2, 2, 2, 2, 2, 2, 2, 2, 2, 2,\n",
              "       2, 2])"
            ]
          },
          "metadata": {
            "tags": []
          },
          "execution_count": 29
        },
        {
          "output_type": "stream",
          "text": [
            "time: 6.26 ms (started: 2021-02-11 09:24:46 +00:00)\n"
          ],
          "name": "stdout"
        }
      ]
    },
    {
      "cell_type": "code",
      "metadata": {
        "colab": {
          "base_uri": "https://localhost:8080/"
        },
        "id": "REqBRFz2Z8je",
        "outputId": "6a490e97-4224-4d9f-92dd-4d11b1c98ff6"
      },
      "source": [
        "np.unique(target,return_counts = True)"
      ],
      "execution_count": 30,
      "outputs": [
        {
          "output_type": "execute_result",
          "data": {
            "text/plain": [
              "(array([0, 1, 2]), array([30, 30, 30]))"
            ]
          },
          "metadata": {
            "tags": []
          },
          "execution_count": 30
        },
        {
          "output_type": "stream",
          "text": [
            "time: 6.54 ms (started: 2021-02-11 09:25:32 +00:00)\n"
          ],
          "name": "stdout"
        }
      ]
    },
    {
      "cell_type": "code",
      "metadata": {
        "colab": {
          "base_uri": "https://localhost:8080/",
          "height": 299
        },
        "id": "IWF_yotGaO-O",
        "outputId": "459a0809-78ba-4772-d66a-7f1d3b5b1deb"
      },
      "source": [
        "unique,count = np.unique(target,return_counts = True)\r\n",
        "plt.bar(CATEGORIES,count)"
      ],
      "execution_count": 31,
      "outputs": [
        {
          "output_type": "execute_result",
          "data": {
            "text/plain": [
              "<BarContainer object of 3 artists>"
            ]
          },
          "metadata": {
            "tags": []
          },
          "execution_count": 31
        },
        {
          "output_type": "display_data",
          "data": {
            "image/png": "[encoded data removed]",
            "text/plain": [
              "<Figure size 432x288 with 1 Axes>"
            ]
          },
          "metadata": {
            "tags": [],
            "needs_background": "light"
          }
        },
        {
          "output_type": "stream",
          "text": [
            "time: 160 ms (started: 2021-02-11 09:26:35 +00:00)\n"
          ],
          "name": "stdout"
        }
      ]
    },
    {
      "cell_type": "code",
      "metadata": {
        "colab": {
          "base_uri": "https://localhost:8080/"
        },
        "id": "WZIqm2qqaeaD",
        "outputId": "281ae3b0-e2b6-42a9-9b22-a9424aed50a8"
      },
      "source": [
        "# Split data into Training and testing\r\n",
        "from sklearn.model_selection import train_test_split\r\n",
        "x_train,x_test,y_train,y_test = train_test_split(flat_data,target,test_size = 0.3,random_state = 109)"
      ],
      "execution_count": 32,
      "outputs": [
        {
          "output_type": "stream",
          "text": [
            "time: 17.1 ms (started: 2021-02-11 09:29:32 +00:00)\n"
          ],
          "name": "stdout"
        }
      ]
    },
    {
      "cell_type": "code",
      "metadata": {
        "colab": {
          "base_uri": "https://localhost:8080/"
        },
        "id": "Kwtl9j6MbJoY",
        "outputId": "cbee594b-6acd-4ac4-8363-b42b8fb6266c"
      },
      "source": [
        "from sklearn.model_selection import GridSearchCV\r\n",
        "from sklearn import svm\r\n",
        "param_grid = [\r\n",
        "              {'C':[1,10,100,1000],'kernel':['linear']},\r\n",
        "              {'C':[1,10,100,1000],'gamma':[0.001,0.0001],'kernel':['rbf']},\r\n",
        "]\r\n",
        "\r\n",
        "svc = svm.SVC(probability = True)\r\n",
        "clf = GridSearchCV(svc,param_grid)\r\n",
        "clf.fit(x_train,y_train)"
      ],
      "execution_count": 35,
      "outputs": [
        {
          "output_type": "execute_result",
          "data": {
            "text/plain": [
              "GridSearchCV(cv=None, error_score=nan,\n",
              "             estimator=SVC(C=1.0, break_ties=False, cache_size=200,\n",
              "                           class_weight=None, coef0=0.0,\n",
              "                           decision_function_shape='ovr', degree=3,\n",
              "                           gamma='scale', kernel='rbf', max_iter=-1,\n",
              "                           probability=True, random_state=None, shrinking=True,\n",
              "                           tol=0.001, verbose=False),\n",
              "             iid='deprecated', n_jobs=None,\n",
              "             param_grid=[{'C': [1, 10, 100, 1000], 'kernel': ['linear']},\n",
              "                         {'C': [1, 10, 100, 1000], 'gamma': [0.001, 0.0001],\n",
              "                          'kernel': ['rbf']}],\n",
              "             pre_dispatch='2*n_jobs', refit=True, return_train_score=False,\n",
              "             scoring=None, verbose=0)"
            ]
          },
          "metadata": {
            "tags": []
          },
          "execution_count": 35
        },
        {
          "output_type": "stream",
          "text": [
            "time: 1min 49s (started: 2021-02-11 09:45:05 +00:00)\n"
          ],
          "name": "stdout"
        }
      ]
    },
    {
      "cell_type": "code",
      "metadata": {
        "colab": {
          "base_uri": "https://localhost:8080/"
        },
        "id": "RPeAhCyzejP0",
        "outputId": "a1fc7772-4c75-489a-fe65-66375722c545"
      },
      "source": [
        "y_pred = clf.predict(x_test)\r\n",
        "y_pred"
      ],
      "execution_count": 36,
      "outputs": [
        {
          "output_type": "execute_result",
          "data": {
            "text/plain": [
              "array([1, 2, 1, 2, 2, 1, 0, 0, 0, 0, 2, 0, 1, 0, 2, 1, 2, 1, 0, 1, 1, 2,\n",
              "       1, 2, 2, 0, 1])"
            ]
          },
          "metadata": {
            "tags": []
          },
          "execution_count": 36
        },
        {
          "output_type": "stream",
          "text": [
            "time: 172 ms (started: 2021-02-11 09:47:53 +00:00)\n"
          ],
          "name": "stdout"
        }
      ]
    },
    {
      "cell_type": "code",
      "metadata": {
        "colab": {
          "base_uri": "https://localhost:8080/"
        },
        "id": "cuDR-3UTfWOe",
        "outputId": "70dc07e2-2315-4cab-9f65-15f5055dfbe4"
      },
      "source": [
        "y_test"
      ],
      "execution_count": 37,
      "outputs": [
        {
          "output_type": "execute_result",
          "data": {
            "text/plain": [
              "array([1, 0, 1, 2, 2, 1, 0, 1, 1, 0, 1, 0, 1, 2, 2, 1, 2, 1, 0, 1, 2, 2,\n",
              "       2, 0, 0, 0, 1])"
            ]
          },
          "metadata": {
            "tags": []
          },
          "execution_count": 37
        },
        {
          "output_type": "stream",
          "text": [
            "time: 4.35 ms (started: 2021-02-11 09:48:00 +00:00)\n"
          ],
          "name": "stdout"
        }
      ]
    },
    {
      "cell_type": "code",
      "metadata": {
        "colab": {
          "base_uri": "https://localhost:8080/"
        },
        "id": "yTgtEXhMfX5N",
        "outputId": "02466749-508f-44b2-cc20-a1d3ccf1b35f"
      },
      "source": [
        "from sklearn.metrics import accuracy_score,confusion_matrix"
      ],
      "execution_count": 40,
      "outputs": [
        {
          "output_type": "stream",
          "text": [
            "time: 820 µs (started: 2021-02-11 09:49:14 +00:00)\n"
          ],
          "name": "stdout"
        }
      ]
    },
    {
      "cell_type": "code",
      "metadata": {
        "colab": {
          "base_uri": "https://localhost:8080/"
        },
        "id": "8lu3MLy-fh8l",
        "outputId": "e27d9bea-79aa-4d86-a195-4f1119bb05a2"
      },
      "source": [
        "accuracy_score(y_pred,y_test)"
      ],
      "execution_count": 41,
      "outputs": [
        {
          "output_type": "execute_result",
          "data": {
            "text/plain": [
              "0.6666666666666666"
            ]
          },
          "metadata": {
            "tags": []
          },
          "execution_count": 41
        },
        {
          "output_type": "stream",
          "text": [
            "time: 6.64 ms (started: 2021-02-11 09:49:32 +00:00)\n"
          ],
          "name": "stdout"
        }
      ]
    },
    {
      "cell_type": "code",
      "metadata": {
        "colab": {
          "base_uri": "https://localhost:8080/"
        },
        "id": "l5Sf3YXIfui5",
        "outputId": "124237f1-7023-4238-c7d6-301896bb81f1"
      },
      "source": [
        "confusion_matrix(y_pred,y_test)"
      ],
      "execution_count": 42,
      "outputs": [
        {
          "output_type": "execute_result",
          "data": {
            "text/plain": [
              "array([[5, 2, 1],\n",
              "       [0, 8, 2],\n",
              "       [3, 1, 5]])"
            ]
          },
          "metadata": {
            "tags": []
          },
          "execution_count": 42
        },
        {
          "output_type": "stream",
          "text": [
            "time: 3.98 ms (started: 2021-02-11 09:50:17 +00:00)\n"
          ],
          "name": "stdout"
        }
      ]
    },
    {
      "cell_type": "code",
      "metadata": {
        "colab": {
          "base_uri": "https://localhost:8080/"
        },
        "id": "LysyN26Vf45i",
        "outputId": "2e290759-625a-4502-f267-4dd77550adff"
      },
      "source": [
        "# Save the model using Pickle library\r\n",
        "import pickle\r\n",
        "pickle.dump(clf,open('img_model.p','wb'))"
      ],
      "execution_count": 43,
      "outputs": [
        {
          "output_type": "stream",
          "text": [
            "time: 44.9 ms (started: 2021-02-11 09:51:40 +00:00)\n"
          ],
          "name": "stdout"
        }
      ]
    },
    {
      "cell_type": "code",
      "metadata": {
        "colab": {
          "base_uri": "https://localhost:8080/"
        },
        "id": "2LHagmIAgNhg",
        "outputId": "a3cc9268-5717-415b-8476-0d474fa7916e"
      },
      "source": [
        "model = pickle.load(open('img_model.p','rb'))"
      ],
      "execution_count": 44,
      "outputs": [
        {
          "output_type": "stream",
          "text": [
            "time: 18.2 ms (started: 2021-02-11 09:52:44 +00:00)\n"
          ],
          "name": "stdout"
        }
      ]
    },
    {
      "cell_type": "code",
      "metadata": {
        "colab": {
          "base_uri": "https://localhost:8080/",
          "height": 337
        },
        "id": "ioYm2792gdcO",
        "outputId": "164c81f0-e96d-4856-e0cc-92beb353bd25"
      },
      "source": [
        "# Testing a brand new Image\r\n",
        "flat_data=[]\r\n",
        "url = input('Enter your URL')\r\n",
        "img = imread(url)\r\n",
        "img_resized = resize(img,(150,150,3))\r\n",
        "flat_data.append(img_resized.flatten())\r\n",
        "flat_data = np.array(flat_data)\r\n",
        "print(img.shape)\r\n",
        "plt.imshow(img_resized)\r\n",
        "y_out = model.predict(flat_data)\r\n",
        "y_out = CATEGORIES[y_out[0]]\r\n",
        "print(f'PREDICTED OUTPUT: {y_out}')"
      ],
      "execution_count": 50,
      "outputs": [
        {
          "output_type": "stream",
          "text": [
            "Enter your URLhttps://cdn2.stylecraze.com/wp-content/uploads/2013/07/47-shutterstock_130738760.jpg\n",
            "(810, 720, 3)\n",
            "PREDICTED OUTPUT: beautiful flowers\n"
          ],
          "name": "stdout"
        },
        {
          "output_type": "display_data",
          "data": {
            "image/png": "[encoded data removed]",
            "text/plain": [
              "<Figure size 432x288 with 1 Axes>"
            ]
          },
          "metadata": {
            "tags": [],
            "needs_background": "light"
          }
        },
        {
          "output_type": "stream",
          "text": [
            "time: 6.74 s (started: 2021-02-11 10:02:03 +00:00)\n"
          ],
          "name": "stdout"
        }
      ]
    },
    {
      "cell_type": "code",
      "metadata": {
        "id": "32lwI0ArsZWW"
      },
      "source": [
        "!pip install streamlit\r\n",
        "\r\n",
        "!pip install pyngrok\r\n",
        "from pyngrok import ngrok"
      ],
      "execution_count": null,
      "outputs": []
    },
    {
      "cell_type": "code",
      "metadata": {
        "colab": {
          "base_uri": "https://localhost:8080/"
        },
        "id": "YiZF5Wm4jFQb",
        "outputId": "99e6cbff-b75d-43b8-b82b-87fb987005c9"
      },
      "source": [
        "%%writefile app.py\r\n",
        "import streamlit as st\r\n",
        "import numpy as np    \r\n",
        "from skimage.io import imread   \r\n",
        "from skimage.transform import resize \r\n",
        "import pickle\r\n",
        "from PIL import Image\r\n",
        "st.title('Image Classifier using Machine Learning')\r\n",
        "st.text('upload the Image')\r\n",
        "\r\n",
        "model = pickle.load(open('img_model.p','rb'))\r\n",
        "\r\n",
        "uploaded_file = sr.file_uploader(\"Choose an image...\",type = \"jpg\")\r\n",
        "if uploaded_file is not None:\r\n",
        "  img = Image.open(uploaded_file)\r\n",
        "  st.image(img,caption = 'Uploaded Image')\r\n",
        "\r\n",
        "  if st.button('PREDICT'):\r\n",
        "    CATEGORIES = ['beautiful flowers','chocolate bars','cute cat']\r\n",
        "    st.write('Result...')\r\n",
        "    flat_data = []\r\n",
        "    img = np.array(img)\r\n",
        "    img_resized = resize(img,(150,150,3))\r\n",
        "    flat_data.append(img_resized.flatten())\r\n",
        "    flat_data = np.array(flat_data)\r\n",
        "    y_out = model.predict(flat_data)\r\n",
        "    y_out = CATEGORIES[y_out[0]]\r\n",
        "    st.title(f' PREDICTED OUTPUT: {y_out}')\r\n",
        "    q = model.predict_proba(flat_data)\r\n",
        "    for index, item in enumerate(CATEGORIES):\r\n",
        "      st.write(f'{item} : {q[0][index]*100}%')"
      ],
      "execution_count": 8,
      "outputs": [
        {
          "output_type": "stream",
          "text": [
            "Overwriting app.py\n",
            "time: 10.5 ms (started: 2021-02-11 10:30:39 +00:00)\n"
          ],
          "name": "stdout"
        }
      ]
    },
    {
      "cell_type": "code",
      "metadata": {
        "id": "BTr1XtHHkDRK"
      },
      "source": [
        "!nohup streamlit run app.py &\r\n",
        "url = ngrok.connect(port='8501')\r\n",
        "url"
      ],
      "execution_count": null,
      "outputs": []
    }
  ]
}